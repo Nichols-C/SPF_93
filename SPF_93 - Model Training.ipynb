{
 "cells": [
  {
   "cell_type": "code",
   "execution_count": 6,
   "id": "f3b55cac",
   "metadata": {},
   "outputs": [],
   "source": [
    "# Machine learning for decision support in food energy water systems: \n",
    "# Forecasting the impact of climate change on renewable energy generation "
   ]
  },
  {
   "cell_type": "code",
   "execution_count": 7,
   "id": "f6442dd0",
   "metadata": {},
   "outputs": [
    {
     "name": "stdout",
     "output_type": "stream",
     "text": [
      "S:\\Datasets\n"
     ]
    }
   ],
   "source": [
    "cd S:\\Datasets"
   ]
  },
  {
   "cell_type": "code",
   "execution_count": 8,
   "id": "d86d9800",
   "metadata": {},
   "outputs": [],
   "source": [
    "# This is the curent working copy for modelling solar power production as a function of GCM inputs"
   ]
  },
  {
   "cell_type": "code",
   "execution_count": 9,
   "id": "7101bef3",
   "metadata": {},
   "outputs": [
    {
     "name": "stdout",
     "output_type": "stream",
     "text": [
      "S:\\Datasets\\Solar\n"
     ]
    }
   ],
   "source": [
    "from pathlib import Path\n",
    "from datetime import datetime\n",
    "import csv\n",
    "import datetime\n",
    "\n",
    "base_path = Path.cwd().parent / 'Datasets' / 'Solar'\n",
    "print(base_path)"
   ]
  },
  {
   "cell_type": "code",
   "execution_count": 10,
   "id": "c0fb0705",
   "metadata": {},
   "outputs": [],
   "source": [
    "# Establish hyperparameters\n",
    "\n",
    "import pandas as pd\n",
    "import numpy as np\n",
    "\n",
    "Loss = \"mean_squared_error\"\n",
    "\n",
    "Optimizer = \"SGD\"\n",
    "\n",
    "Learning_Rate = 0.0000009\n",
    "\n",
    "Batch_Size = 2048\n",
    "\n",
    "Epochs = 60000\n"
   ]
  },
  {
   "cell_type": "code",
   "execution_count": 11,
   "id": "9da91261",
   "metadata": {},
   "outputs": [],
   "source": [
    "# Import training data\n",
    "\n",
    "data_input = pd.read_csv(base_path/\"Rainfall_2.csv\")"
   ]
  },
  {
   "cell_type": "code",
   "execution_count": 12,
   "id": "69de8545",
   "metadata": {},
   "outputs": [],
   "source": [
    "# Constrain dataset boundaries\n",
    "data_input = data_input[data_input.Daily_Average_Power != 0]\n",
    "\n",
    "data_input = data_input[data_input.Pivot == \"DPV\"]\n",
    "\n",
    "data_input = data_input[data_input.MW > 2]\n",
    "\n",
    "data_input = data_input.dropna().reset_index(drop=True)"
   ]
  },
  {
   "cell_type": "code",
   "execution_count": 13,
   "id": "2975ac1c",
   "metadata": {},
   "outputs": [],
   "source": [
    "# Set convert daily average power to production factor\n",
    "\n",
    "data_input['Daily_Average_Power'] = (data_input['Daily_Average_Power']/data_input['MW'])*100"
   ]
  },
  {
   "cell_type": "code",
   "execution_count": 14,
   "id": "b45daa04",
   "metadata": {},
   "outputs": [],
   "source": [
    "%matplotlib inline\n",
    "import matplotlib.pyplot as plt\n",
    "\n",
    "# Create train / test / validation split\n",
    "from sklearn.model_selection import train_test_split\n",
    "\n",
    "train_set, test_set = train_test_split(data_input, test_size=0.2, shuffle = True, random_state = 42)\n",
    "train_set, validation_set = train_test_split(train_set, test_size=0.2, shuffle = True, random_state = 42)"
   ]
  },
  {
   "cell_type": "code",
   "execution_count": 15,
   "id": "bbb707e4",
   "metadata": {},
   "outputs": [
    {
     "name": "stdout",
     "output_type": "stream",
     "text": [
      "['Month', 'Latitude', 'Longitude', 'Min_Daily_Relative_Humidity', 'Max_Daily_Relative_Humidity', 'Avg_Daily_GHI', 'Daily_Minimum_Temperature', 'Daily_Maximum_Temperature', 'Daily_Eastward_Wind_Component', 'Daily_Northward_Wind_Component']\n"
     ]
    }
   ],
   "source": [
    "from sklearn.impute import SimpleImputer\n",
    "imputer = SimpleImputer(strategy=\"mean\")\n",
    "# Selection of inputs for training in preprocessing pipeline\n",
    "data_input_num = data_input.drop([\"date\", \n",
    "                                  \"Unnamed: 0\",\n",
    "                                   #\"Month\",\n",
    "                                   #\"Latitude\", \n",
    "                                   #\"Longitude\", \n",
    "                                   \"MW\", \n",
    "                                   \"Pivot\",\n",
    "                                   \"Solar_Zenith_Angle\",\n",
    "                                   'Precipitation',\n",
    "                                   \"Daily_Surface_Wind_Speed\", \n",
    "                                   \"Daily_Mean_Temperature\", \n",
    "                                   \"Daily_Precipitable_Water\",\n",
    "                                   \"Daily_Relative_Humidity\",\n",
    "                                   #\"Min_Daily_Relative_Humidity\",\n",
    "                                   #\"Max_Daily_Relative_Humidity\",\n",
    "                                   \"Avg_Daily_Clearsky_GHI\", \n",
    "                                   \"Avg_Daily_Clearsky_DNI\", \n",
    "                                   \"Avg_Daily_Clearsky_DHI\", \n",
    "                                   #\"Avg_Daily_GHI\", \n",
    "                                   \"Avg_Daily_DNI\", \n",
    "                                   \"Avg_Daily_DHI\", \n",
    "                                   \"Total_Daily_Clearsky_GHI\", \n",
    "                                   \"Total_Daily_Clearsky_DNI\", \n",
    "                                   \"Total_Daily_Clearsky_DHI\", \n",
    "                                   \"Total_Daily_GHI\", \n",
    "                                   \"Total_Daily_DNI\", \n",
    "                                   \"Total_Daily_DHI\", \n",
    "                                   \"Average_Cloud_Type\", \n",
    "                                   #\"Daily_Minimum_Temperature\", \n",
    "                                   #\"Daily_Maximum_Temperature\", \n",
    "                                   #\"Daily_Eastward_Wind_Component\", \n",
    "                                   #\"Daily_Northward_Wind_Component\", \n",
    "                                   \"Daily_Average_Power\", \n",
    "                                   \"Daily_Total_Power\",\n",
    "                                   \"Daily_Station_Up_Time\",\n",
    "                                   \"Elevation\"\n",
    "                                  ], axis = 1)\n",
    "\n",
    "\n",
    "imputer.fit(data_input_num)\n",
    "\n",
    "cols = data_input_num.columns.tolist()\n",
    "print(cols)"
   ]
  },
  {
   "cell_type": "code",
   "execution_count": 16,
   "id": "52929b23",
   "metadata": {},
   "outputs": [],
   "source": [
    "from sklearn.pipeline import Pipeline\n",
    "from sklearn.preprocessing import StandardScaler\n",
    "# Imputing and normalizing for the selected features\n",
    "num_pipeline = Pipeline([\n",
    "        ('imputer', SimpleImputer(strategy=\"mean\")),('std_scaler',StandardScaler())\n",
    "#        ('attribs_adder', CombinedAttributesAdder()),\n",
    "    ])"
   ]
  },
  {
   "cell_type": "code",
   "execution_count": 17,
   "id": "af8c7671",
   "metadata": {},
   "outputs": [],
   "source": [
    "from sklearn.preprocessing import OneHotEncoder\n",
    "from sklearn.compose import ColumnTransformer\n",
    "# Pass each train, test, holdout, etc. set through the pipeline to prepare for training\n",
    "num_attribs = list(data_input_num)\n",
    "cat_attribs = [\"Pivot\"]\n",
    "\n",
    "full_pipeline = ColumnTransformer([\n",
    "        (\"num\", num_pipeline, num_attribs),\n",
    "        (\"cat\", OneHotEncoder(), cat_attribs),\n",
    "    ])\n",
    "\n",
    "train_prepared = full_pipeline.fit_transform(train_set)\n",
    "#test_prepared = full_pipeline.fit_transform(test_set)\n",
    "#validation_prepared = full_pipeline.fit_transform(validation_set)\n",
    "\n",
    "# When transforming the test, validation, and prediction sets we must use the scale from the training data\n",
    "\n",
    "test_prepared = full_pipeline.transform(test_set)\n",
    "validation_prepared = full_pipeline.transform(validation_set)"
   ]
  },
  {
   "cell_type": "code",
   "execution_count": 18,
   "id": "21cf42d0",
   "metadata": {},
   "outputs": [
    {
     "name": "stdout",
     "output_type": "stream",
     "text": [
      "[-1.32117536 -0.25373943  0.64786387 -0.99166333  0.51509448  0.43080971\n",
      " -1.13256913 -1.28957532 -0.19983761 -1.16484171  1.        ]\n"
     ]
    }
   ],
   "source": [
    "print(train_prepared[0])"
   ]
  },
  {
   "cell_type": "code",
   "execution_count": 19,
   "id": "77beb46c",
   "metadata": {},
   "outputs": [],
   "source": [
    "from IPython.display import clear_output\n",
    "from tensorflow import keras\n",
    "\n",
    "class PlotLearning(keras.callbacks.Callback):\n",
    "    \"\"\"\n",
    "    Callback to plot the learning curves of the model during training.\n",
    "    \"\"\"\n",
    "    def on_train_begin(self, logs={}):\n",
    "        self.metrics = {}\n",
    "        for metric in logs:\n",
    "            self.metrics[metric] = []\n",
    "            \n",
    "\n",
    "    def on_epoch_end(self, epoch, logs={}):\n",
    "        # Storing metrics\n",
    "        for metric in logs:\n",
    "            if metric in self.metrics:\n",
    "                self.metrics[metric].append(logs.get(metric))\n",
    "            else:\n",
    "                self.metrics[metric] = [logs.get(metric)]\n",
    "        \n",
    "        # Plotting\n",
    "        metrics = [x for x in logs if 'val' not in x]\n",
    "        \n",
    "        f, axs = plt.subplots(1, len(metrics), figsize=(15,5))\n",
    "        clear_output(wait=True)\n",
    "\n",
    "        for i, metric in enumerate(metrics):\n",
    "            axs.plot(range(1, epoch + 2), \n",
    "                        self.metrics[metric], \n",
    "                        label=metric)\n",
    "            if logs['val_' + metric]:\n",
    "                axs.plot(range(1, epoch + 2), \n",
    "                            self.metrics['val_' + metric], \n",
    "                            label='val_' + metric)\n",
    "                \n",
    "            axs.legend()\n",
    "            axs.grid()\n",
    "\n",
    "        plt.tight_layout()\n",
    "        plt.show()\n",
    "        \n",
    "pl = PlotLearning()"
   ]
  },
  {
   "cell_type": "code",
   "execution_count": 20,
   "id": "afa059a4",
   "metadata": {
    "scrolled": false
   },
   "outputs": [
    {
     "data": {
      "image/png": "[encoded data removed]",
      "text/plain": [
       "<Figure size 1500x500 with 1 Axes>"
      ]
     },
     "metadata": {},
     "output_type": "display_data"
    },
    {
     "name": "stdout",
     "output_type": "stream",
     "text": [
      "Epoch 3/60000\n",
      " 86/295 [=======>......................] - ETA: 5s - loss: 263.2622"
     ]
    },
    {
     "ename": "KeyboardInterrupt",
     "evalue": "",
     "output_type": "error",
     "traceback": [
      "\u001b[1;31m---------------------------------------------------------------------------\u001b[0m",
      "\u001b[1;31mKeyboardInterrupt\u001b[0m                         Traceback (most recent call last)",
      "Cell \u001b[1;32mIn[20], line 97\u001b[0m\n\u001b[0;32m     93\u001b[0m \u001b[38;5;66;03m#import os\u001b[39;00m\n\u001b[0;32m     94\u001b[0m \u001b[38;5;66;03m#from tensorflow.keras.callbacks import TensorBoard\u001b[39;00m\n\u001b[0;32m     96\u001b[0m NN\u001b[38;5;241m.\u001b[39mcompile(loss \u001b[38;5;241m=\u001b[39m \u001b[38;5;124m\"\u001b[39m\u001b[38;5;124mmean_squared_error\u001b[39m\u001b[38;5;124m\"\u001b[39m, optimizer \u001b[38;5;241m=\u001b[39m keras\u001b[38;5;241m.\u001b[39moptimizers\u001b[38;5;241m.\u001b[39mAdam(learning_rate\u001b[38;5;241m=\u001b[39m Learning_Rate))\n\u001b[1;32m---> 97\u001b[0m history \u001b[38;5;241m=\u001b[39m \u001b[43mNN\u001b[49m\u001b[38;5;241;43m.\u001b[39;49m\u001b[43mfit\u001b[49m\u001b[43m(\u001b[49m\u001b[43mtrain_prepared\u001b[49m\u001b[43m,\u001b[49m\u001b[43m \u001b[49m\u001b[43m[\u001b[49m\u001b[43mtrain_set\u001b[49m\u001b[43m[\u001b[49m\u001b[38;5;124;43m\"\u001b[39;49m\u001b[38;5;124;43mDaily_Average_Power\u001b[39;49m\u001b[38;5;124;43m\"\u001b[39;49m\u001b[43m]\u001b[49m\u001b[43m]\u001b[49m\u001b[43m,\u001b[49m\u001b[43m \u001b[49m\u001b[43mepochs\u001b[49m\u001b[43m \u001b[49m\u001b[38;5;241;43m=\u001b[39;49m\u001b[43m \u001b[49m\u001b[43mEpochs\u001b[49m\u001b[43m,\u001b[49m\u001b[43m \u001b[49m\n\u001b[0;32m     98\u001b[0m \u001b[43m                 \u001b[49m\u001b[43mbatch_size\u001b[49m\u001b[43m \u001b[49m\u001b[38;5;241;43m=\u001b[39;49m\u001b[43m \u001b[49m\u001b[43mBatch_Size\u001b[49m\u001b[43m,\u001b[49m\u001b[43m \u001b[49m\u001b[43mcallbacks\u001b[49m\u001b[43m \u001b[49m\u001b[38;5;241;43m=\u001b[39;49m\u001b[43m \u001b[49m\u001b[43mcallbacks_list\u001b[49m\u001b[43m,\u001b[49m\n\u001b[0;32m     99\u001b[0m \u001b[43m                   \u001b[49m\u001b[43mvalidation_data\u001b[49m\u001b[43m \u001b[49m\u001b[38;5;241;43m=\u001b[39;49m\u001b[43m \u001b[49m\u001b[43m(\u001b[49m\u001b[43mvalidation_prepared\u001b[49m\u001b[43m,\u001b[49m\u001b[43m \u001b[49m\u001b[43m[\u001b[49m\u001b[43mvalidation_set\u001b[49m\u001b[43m[\u001b[49m\u001b[38;5;124;43m\"\u001b[39;49m\u001b[38;5;124;43mDaily_Average_Power\u001b[39;49m\u001b[38;5;124;43m\"\u001b[39;49m\u001b[43m]\u001b[49m\u001b[43m]\u001b[49m\u001b[43m)\u001b[49m\u001b[43m,\u001b[49m\u001b[43m \u001b[49m\u001b[43mverbose\u001b[49m\u001b[43m \u001b[49m\u001b[38;5;241;43m=\u001b[39;49m\u001b[38;5;241;43m1\u001b[39;49m\u001b[43m)\u001b[49m\n",
      "File \u001b[1;32m~\\anaconda3\\envs\\Tensorflow_GPU\\lib\\site-packages\\tensorflow\\python\\keras\\engine\\training.py:1183\u001b[0m, in \u001b[0;36mModel.fit\u001b[1;34m(self, x, y, batch_size, epochs, verbose, callbacks, validation_split, validation_data, shuffle, class_weight, sample_weight, initial_epoch, steps_per_epoch, validation_steps, validation_batch_size, validation_freq, max_queue_size, workers, use_multiprocessing)\u001b[0m\n\u001b[0;32m   1176\u001b[0m \u001b[38;5;28;01mwith\u001b[39;00m trace\u001b[38;5;241m.\u001b[39mTrace(\n\u001b[0;32m   1177\u001b[0m     \u001b[38;5;124m'\u001b[39m\u001b[38;5;124mtrain\u001b[39m\u001b[38;5;124m'\u001b[39m,\n\u001b[0;32m   1178\u001b[0m     epoch_num\u001b[38;5;241m=\u001b[39mepoch,\n\u001b[0;32m   1179\u001b[0m     step_num\u001b[38;5;241m=\u001b[39mstep,\n\u001b[0;32m   1180\u001b[0m     batch_size\u001b[38;5;241m=\u001b[39mbatch_size,\n\u001b[0;32m   1181\u001b[0m     _r\u001b[38;5;241m=\u001b[39m\u001b[38;5;241m1\u001b[39m):\n\u001b[0;32m   1182\u001b[0m   callbacks\u001b[38;5;241m.\u001b[39mon_train_batch_begin(step)\n\u001b[1;32m-> 1183\u001b[0m   tmp_logs \u001b[38;5;241m=\u001b[39m \u001b[38;5;28;43mself\u001b[39;49m\u001b[38;5;241;43m.\u001b[39;49m\u001b[43mtrain_function\u001b[49m\u001b[43m(\u001b[49m\u001b[43miterator\u001b[49m\u001b[43m)\u001b[49m\n\u001b[0;32m   1184\u001b[0m   \u001b[38;5;28;01mif\u001b[39;00m data_handler\u001b[38;5;241m.\u001b[39mshould_sync:\n\u001b[0;32m   1185\u001b[0m     context\u001b[38;5;241m.\u001b[39masync_wait()\n",
      "File \u001b[1;32m~\\anaconda3\\envs\\Tensorflow_GPU\\lib\\site-packages\\tensorflow\\python\\eager\\def_function.py:889\u001b[0m, in \u001b[0;36mFunction.__call__\u001b[1;34m(self, *args, **kwds)\u001b[0m\n\u001b[0;32m    886\u001b[0m compiler \u001b[38;5;241m=\u001b[39m \u001b[38;5;124m\"\u001b[39m\u001b[38;5;124mxla\u001b[39m\u001b[38;5;124m\"\u001b[39m \u001b[38;5;28;01mif\u001b[39;00m \u001b[38;5;28mself\u001b[39m\u001b[38;5;241m.\u001b[39m_jit_compile \u001b[38;5;28;01melse\u001b[39;00m \u001b[38;5;124m\"\u001b[39m\u001b[38;5;124mnonXla\u001b[39m\u001b[38;5;124m\"\u001b[39m\n\u001b[0;32m    888\u001b[0m \u001b[38;5;28;01mwith\u001b[39;00m OptionalXlaContext(\u001b[38;5;28mself\u001b[39m\u001b[38;5;241m.\u001b[39m_jit_compile):\n\u001b[1;32m--> 889\u001b[0m   result \u001b[38;5;241m=\u001b[39m \u001b[38;5;28;43mself\u001b[39;49m\u001b[38;5;241;43m.\u001b[39;49m\u001b[43m_call\u001b[49m\u001b[43m(\u001b[49m\u001b[38;5;241;43m*\u001b[39;49m\u001b[43margs\u001b[49m\u001b[43m,\u001b[49m\u001b[43m \u001b[49m\u001b[38;5;241;43m*\u001b[39;49m\u001b[38;5;241;43m*\u001b[39;49m\u001b[43mkwds\u001b[49m\u001b[43m)\u001b[49m\n\u001b[0;32m    891\u001b[0m new_tracing_count \u001b[38;5;241m=\u001b[39m \u001b[38;5;28mself\u001b[39m\u001b[38;5;241m.\u001b[39mexperimental_get_tracing_count()\n\u001b[0;32m    892\u001b[0m without_tracing \u001b[38;5;241m=\u001b[39m (tracing_count \u001b[38;5;241m==\u001b[39m new_tracing_count)\n",
      "File \u001b[1;32m~\\anaconda3\\envs\\Tensorflow_GPU\\lib\\site-packages\\tensorflow\\python\\eager\\def_function.py:917\u001b[0m, in \u001b[0;36mFunction._call\u001b[1;34m(self, *args, **kwds)\u001b[0m\n\u001b[0;32m    914\u001b[0m   \u001b[38;5;28mself\u001b[39m\u001b[38;5;241m.\u001b[39m_lock\u001b[38;5;241m.\u001b[39mrelease()\n\u001b[0;32m    915\u001b[0m   \u001b[38;5;66;03m# In this case we have created variables on the first call, so we run the\u001b[39;00m\n\u001b[0;32m    916\u001b[0m   \u001b[38;5;66;03m# defunned version which is guaranteed to never create variables.\u001b[39;00m\n\u001b[1;32m--> 917\u001b[0m   \u001b[38;5;28;01mreturn\u001b[39;00m \u001b[38;5;28;43mself\u001b[39;49m\u001b[38;5;241;43m.\u001b[39;49m\u001b[43m_stateless_fn\u001b[49m\u001b[43m(\u001b[49m\u001b[38;5;241;43m*\u001b[39;49m\u001b[43margs\u001b[49m\u001b[43m,\u001b[49m\u001b[43m \u001b[49m\u001b[38;5;241;43m*\u001b[39;49m\u001b[38;5;241;43m*\u001b[39;49m\u001b[43mkwds\u001b[49m\u001b[43m)\u001b[49m  \u001b[38;5;66;03m# pylint: disable=not-callable\u001b[39;00m\n\u001b[0;32m    918\u001b[0m \u001b[38;5;28;01melif\u001b[39;00m \u001b[38;5;28mself\u001b[39m\u001b[38;5;241m.\u001b[39m_stateful_fn \u001b[38;5;129;01mis\u001b[39;00m \u001b[38;5;129;01mnot\u001b[39;00m \u001b[38;5;28;01mNone\u001b[39;00m:\n\u001b[0;32m    919\u001b[0m   \u001b[38;5;66;03m# Release the lock early so that multiple threads can perform the call\u001b[39;00m\n\u001b[0;32m    920\u001b[0m   \u001b[38;5;66;03m# in parallel.\u001b[39;00m\n\u001b[0;32m    921\u001b[0m   \u001b[38;5;28mself\u001b[39m\u001b[38;5;241m.\u001b[39m_lock\u001b[38;5;241m.\u001b[39mrelease()\n",
      "File \u001b[1;32m~\\anaconda3\\envs\\Tensorflow_GPU\\lib\\site-packages\\tensorflow\\python\\eager\\function.py:3023\u001b[0m, in \u001b[0;36mFunction.__call__\u001b[1;34m(self, *args, **kwargs)\u001b[0m\n\u001b[0;32m   3020\u001b[0m \u001b[38;5;28;01mwith\u001b[39;00m \u001b[38;5;28mself\u001b[39m\u001b[38;5;241m.\u001b[39m_lock:\n\u001b[0;32m   3021\u001b[0m   (graph_function,\n\u001b[0;32m   3022\u001b[0m    filtered_flat_args) \u001b[38;5;241m=\u001b[39m \u001b[38;5;28mself\u001b[39m\u001b[38;5;241m.\u001b[39m_maybe_define_function(args, kwargs)\n\u001b[1;32m-> 3023\u001b[0m \u001b[38;5;28;01mreturn\u001b[39;00m \u001b[43mgraph_function\u001b[49m\u001b[38;5;241;43m.\u001b[39;49m\u001b[43m_call_flat\u001b[49m\u001b[43m(\u001b[49m\n\u001b[0;32m   3024\u001b[0m \u001b[43m    \u001b[49m\u001b[43mfiltered_flat_args\u001b[49m\u001b[43m,\u001b[49m\u001b[43m \u001b[49m\u001b[43mcaptured_inputs\u001b[49m\u001b[38;5;241;43m=\u001b[39;49m\u001b[43mgraph_function\u001b[49m\u001b[38;5;241;43m.\u001b[39;49m\u001b[43mcaptured_inputs\u001b[49m\u001b[43m)\u001b[49m\n",
      "File \u001b[1;32m~\\anaconda3\\envs\\Tensorflow_GPU\\lib\\site-packages\\tensorflow\\python\\eager\\function.py:1960\u001b[0m, in \u001b[0;36mConcreteFunction._call_flat\u001b[1;34m(self, args, captured_inputs, cancellation_manager)\u001b[0m\n\u001b[0;32m   1956\u001b[0m possible_gradient_type \u001b[38;5;241m=\u001b[39m gradients_util\u001b[38;5;241m.\u001b[39mPossibleTapeGradientTypes(args)\n\u001b[0;32m   1957\u001b[0m \u001b[38;5;28;01mif\u001b[39;00m (possible_gradient_type \u001b[38;5;241m==\u001b[39m gradients_util\u001b[38;5;241m.\u001b[39mPOSSIBLE_GRADIENT_TYPES_NONE\n\u001b[0;32m   1958\u001b[0m     \u001b[38;5;129;01mand\u001b[39;00m executing_eagerly):\n\u001b[0;32m   1959\u001b[0m   \u001b[38;5;66;03m# No tape is watching; skip to running the function.\u001b[39;00m\n\u001b[1;32m-> 1960\u001b[0m   \u001b[38;5;28;01mreturn\u001b[39;00m \u001b[38;5;28mself\u001b[39m\u001b[38;5;241m.\u001b[39m_build_call_outputs(\u001b[38;5;28;43mself\u001b[39;49m\u001b[38;5;241;43m.\u001b[39;49m\u001b[43m_inference_function\u001b[49m\u001b[38;5;241;43m.\u001b[39;49m\u001b[43mcall\u001b[49m\u001b[43m(\u001b[49m\n\u001b[0;32m   1961\u001b[0m \u001b[43m      \u001b[49m\u001b[43mctx\u001b[49m\u001b[43m,\u001b[49m\u001b[43m \u001b[49m\u001b[43margs\u001b[49m\u001b[43m,\u001b[49m\u001b[43m \u001b[49m\u001b[43mcancellation_manager\u001b[49m\u001b[38;5;241;43m=\u001b[39;49m\u001b[43mcancellation_manager\u001b[49m\u001b[43m)\u001b[49m)\n\u001b[0;32m   1962\u001b[0m forward_backward \u001b[38;5;241m=\u001b[39m \u001b[38;5;28mself\u001b[39m\u001b[38;5;241m.\u001b[39m_select_forward_and_backward_functions(\n\u001b[0;32m   1963\u001b[0m     args,\n\u001b[0;32m   1964\u001b[0m     possible_gradient_type,\n\u001b[0;32m   1965\u001b[0m     executing_eagerly)\n\u001b[0;32m   1966\u001b[0m forward_function, args_with_tangents \u001b[38;5;241m=\u001b[39m forward_backward\u001b[38;5;241m.\u001b[39mforward()\n",
      "File \u001b[1;32m~\\anaconda3\\envs\\Tensorflow_GPU\\lib\\site-packages\\tensorflow\\python\\eager\\function.py:591\u001b[0m, in \u001b[0;36m_EagerDefinedFunction.call\u001b[1;34m(self, ctx, args, cancellation_manager)\u001b[0m\n\u001b[0;32m    589\u001b[0m \u001b[38;5;28;01mwith\u001b[39;00m _InterpolateFunctionError(\u001b[38;5;28mself\u001b[39m):\n\u001b[0;32m    590\u001b[0m   \u001b[38;5;28;01mif\u001b[39;00m cancellation_manager \u001b[38;5;129;01mis\u001b[39;00m \u001b[38;5;28;01mNone\u001b[39;00m:\n\u001b[1;32m--> 591\u001b[0m     outputs \u001b[38;5;241m=\u001b[39m \u001b[43mexecute\u001b[49m\u001b[38;5;241;43m.\u001b[39;49m\u001b[43mexecute\u001b[49m\u001b[43m(\u001b[49m\n\u001b[0;32m    592\u001b[0m \u001b[43m        \u001b[49m\u001b[38;5;28;43mstr\u001b[39;49m\u001b[43m(\u001b[49m\u001b[38;5;28;43mself\u001b[39;49m\u001b[38;5;241;43m.\u001b[39;49m\u001b[43msignature\u001b[49m\u001b[38;5;241;43m.\u001b[39;49m\u001b[43mname\u001b[49m\u001b[43m)\u001b[49m\u001b[43m,\u001b[49m\n\u001b[0;32m    593\u001b[0m \u001b[43m        \u001b[49m\u001b[43mnum_outputs\u001b[49m\u001b[38;5;241;43m=\u001b[39;49m\u001b[38;5;28;43mself\u001b[39;49m\u001b[38;5;241;43m.\u001b[39;49m\u001b[43m_num_outputs\u001b[49m\u001b[43m,\u001b[49m\n\u001b[0;32m    594\u001b[0m \u001b[43m        \u001b[49m\u001b[43minputs\u001b[49m\u001b[38;5;241;43m=\u001b[39;49m\u001b[43margs\u001b[49m\u001b[43m,\u001b[49m\n\u001b[0;32m    595\u001b[0m \u001b[43m        \u001b[49m\u001b[43mattrs\u001b[49m\u001b[38;5;241;43m=\u001b[39;49m\u001b[43mattrs\u001b[49m\u001b[43m,\u001b[49m\n\u001b[0;32m    596\u001b[0m \u001b[43m        \u001b[49m\u001b[43mctx\u001b[49m\u001b[38;5;241;43m=\u001b[39;49m\u001b[43mctx\u001b[49m\u001b[43m)\u001b[49m\n\u001b[0;32m    597\u001b[0m   \u001b[38;5;28;01melse\u001b[39;00m:\n\u001b[0;32m    598\u001b[0m     outputs \u001b[38;5;241m=\u001b[39m execute\u001b[38;5;241m.\u001b[39mexecute_with_cancellation(\n\u001b[0;32m    599\u001b[0m         \u001b[38;5;28mstr\u001b[39m(\u001b[38;5;28mself\u001b[39m\u001b[38;5;241m.\u001b[39msignature\u001b[38;5;241m.\u001b[39mname),\n\u001b[0;32m    600\u001b[0m         num_outputs\u001b[38;5;241m=\u001b[39m\u001b[38;5;28mself\u001b[39m\u001b[38;5;241m.\u001b[39m_num_outputs,\n\u001b[1;32m   (...)\u001b[0m\n\u001b[0;32m    603\u001b[0m         ctx\u001b[38;5;241m=\u001b[39mctx,\n\u001b[0;32m    604\u001b[0m         cancellation_manager\u001b[38;5;241m=\u001b[39mcancellation_manager)\n",
      "File \u001b[1;32m~\\anaconda3\\envs\\Tensorflow_GPU\\lib\\site-packages\\tensorflow\\python\\eager\\execute.py:59\u001b[0m, in \u001b[0;36mquick_execute\u001b[1;34m(op_name, num_outputs, inputs, attrs, ctx, name)\u001b[0m\n\u001b[0;32m     57\u001b[0m \u001b[38;5;28;01mtry\u001b[39;00m:\n\u001b[0;32m     58\u001b[0m   ctx\u001b[38;5;241m.\u001b[39mensure_initialized()\n\u001b[1;32m---> 59\u001b[0m   tensors \u001b[38;5;241m=\u001b[39m \u001b[43mpywrap_tfe\u001b[49m\u001b[38;5;241;43m.\u001b[39;49m\u001b[43mTFE_Py_Execute\u001b[49m\u001b[43m(\u001b[49m\u001b[43mctx\u001b[49m\u001b[38;5;241;43m.\u001b[39;49m\u001b[43m_handle\u001b[49m\u001b[43m,\u001b[49m\u001b[43m \u001b[49m\u001b[43mdevice_name\u001b[49m\u001b[43m,\u001b[49m\u001b[43m \u001b[49m\u001b[43mop_name\u001b[49m\u001b[43m,\u001b[49m\n\u001b[0;32m     60\u001b[0m \u001b[43m                                      \u001b[49m\u001b[43minputs\u001b[49m\u001b[43m,\u001b[49m\u001b[43m \u001b[49m\u001b[43mattrs\u001b[49m\u001b[43m,\u001b[49m\u001b[43m \u001b[49m\u001b[43mnum_outputs\u001b[49m\u001b[43m)\u001b[49m\n\u001b[0;32m     61\u001b[0m \u001b[38;5;28;01mexcept\u001b[39;00m core\u001b[38;5;241m.\u001b[39m_NotOkStatusException \u001b[38;5;28;01mas\u001b[39;00m e:\n\u001b[0;32m     62\u001b[0m   \u001b[38;5;28;01mif\u001b[39;00m name \u001b[38;5;129;01mis\u001b[39;00m \u001b[38;5;129;01mnot\u001b[39;00m \u001b[38;5;28;01mNone\u001b[39;00m:\n",
      "\u001b[1;31mKeyboardInterrupt\u001b[0m: "
     ]
    }
   ],
   "source": [
    "import tensorflow as tf\n",
    "for gpu in tf.config.experimental.list_physical_devices(\"GPU\"):\n",
    "    tf.config.experimental.set_memory_growth(gpu, True)\n",
    "from tensorflow import keras\n",
    "from tensorflow.keras.callbacks import EarlyStopping, ModelCheckpoint\n",
    "from sklearn.metrics import mean_squared_error\n",
    "# Construciing our neural network\n",
    "input_ = keras.layers.Input(shape=train_prepared.shape[1:])\n",
    "hidden_1a = keras.layers.Dense(40, activation = \"relu\")(input_)\n",
    "hidden_2a = keras.layers.Dense(40, activation = \"relu\")(hidden_1a)\n",
    "hidden_3a = keras.layers.Dense(40, activation = \"relu\")(hidden_2a)\n",
    "hidden_4a = keras.layers.Dense(40, activation = \"relu\")(hidden_3a)\n",
    "hidden_5a = keras.layers.Dense(40, activation = \"relu\")(hidden_4a)\n",
    "hidden_6a = keras.layers.Dense(40, activation = \"relu\")(hidden_5a)\n",
    "hidden_7a = keras.layers.Dense(40, activation = \"relu\")(hidden_6a)\n",
    "hidden_8a = keras.layers.Dense(40, activation = \"relu\")(hidden_7a)\n",
    "hidden_9a = keras.layers.Dense(40, activation = \"relu\")(hidden_8a)\n",
    "hidden_10a = keras.layers.Dense(40, activation = \"relu\")(hidden_9a)\n",
    "hidden_11a = keras.layers.Dense(40, activation = \"relu\")(hidden_10a)\n",
    "hidden_12a = keras.layers.Dense(40, activation = \"relu\")(hidden_11a)\n",
    "hidden_13a = keras.layers.Dense(40, activation = \"relu\")(hidden_12a)\n",
    "hidden_14a = keras.layers.Dense(40, activation = \"relu\")(hidden_13a)\n",
    "hidden_15a = keras.layers.Dense(40, activation = \"relu\")(hidden_14a)\n",
    "hidden_16a = keras.layers.Dense(40, activation = \"relu\")(hidden_15a)\n",
    "hidden_17a = keras.layers.Dense(40, activation = \"relu\")(hidden_16a)\n",
    "hidden_18a = keras.layers.Dense(40, activation = \"relu\")(hidden_17a)\n",
    "hidden_19a = keras.layers.Dense(40, activation = \"relu\")(hidden_18a)\n",
    "hidden_20a = keras.layers.Dense(40, activation = \"relu\")(hidden_19a)\n",
    "hidden_21a = keras.layers.Dense(40, activation = \"relu\")(hidden_20a)\n",
    "hidden_22a = keras.layers.Dense(40, activation = \"relu\")(hidden_21a)\n",
    "hidden_23a = keras.layers.Dense(40, activation = \"relu\")(hidden_22a)\n",
    "hidden_24a = keras.layers.Dense(40, activation = \"relu\")(hidden_23a)\n",
    "hidden_25a = keras.layers.Dense(40, activation = \"relu\")(hidden_24a)\n",
    "hidden_26a = keras.layers.Dense(40, activation = \"relu\")(hidden_25a)\n",
    "hidden_27a = keras.layers.Dense(40, activation = \"relu\")(hidden_26a)\n",
    "hidden_28a = keras.layers.Dense(40, activation = \"relu\")(hidden_27a)\n",
    "hidden_29a = keras.layers.Dense(40, activation = \"relu\")(hidden_28a)\n",
    "hidden_30a = keras.layers.Dense(40, activation = \"relu\")(hidden_29a)\n",
    "hidden_31a = keras.layers.Dense(40, activation = \"relu\")(hidden_30a)\n",
    "hidden_32a = keras.layers.Dense(40, activation = \"relu\")(hidden_31a)\n",
    "hidden_33a = keras.layers.Dense(40, activation = \"relu\")(hidden_32a)\n",
    "hidden_34a = keras.layers.Dense(40, activation = \"relu\")(hidden_33a)\n",
    "hidden_35a = keras.layers.Dense(40, activation = \"relu\")(hidden_34a)\n",
    "hidden_36a = keras.layers.Dense(40, activation = \"relu\")(hidden_35a)\n",
    "hidden_37a = keras.layers.Dense(40, activation = \"relu\")(hidden_36a)\n",
    "hidden_38a = keras.layers.Dense(40, activation = \"relu\")(hidden_37a)\n",
    "hidden_39a = keras.layers.Dense(40, activation = \"relu\")(hidden_38a)\n",
    "hidden_40a = keras.layers.Dense(40, activation = \"relu\")(hidden_39a)\n",
    "hidden_41a = keras.layers.Dense(40, activation = \"relu\")(hidden_40a)\n",
    "hidden_42a = keras.layers.Dense(40, activation = \"relu\")(hidden_41a)\n",
    "hidden_43a = keras.layers.Dense(40, activation = \"relu\")(hidden_42a)\n",
    "hidden_44a = keras.layers.Dense(40, activation = \"relu\")(hidden_43a)\n",
    "hidden_45a = keras.layers.Dense(40, activation = \"relu\")(hidden_44a)\n",
    "hidden_46a = keras.layers.Dense(40, activation = \"relu\")(hidden_45a)\n",
    "hidden_47a = keras.layers.Dense(40, activation = \"relu\")(hidden_46a)\n",
    "hidden_48a = keras.layers.Dense(40, activation = \"relu\")(hidden_47a)\n",
    "hidden_49a = keras.layers.Dense(40, activation = \"relu\")(hidden_48a)\n",
    "hidden_50a = keras.layers.Dense(40, activation = \"relu\")(hidden_49a)\n",
    "hidden_51a = keras.layers.Dense(40, activation = \"relu\")(hidden_50a)\n",
    "hidden_52a = keras.layers.Dense(40, activation = \"relu\")(hidden_51a)\n",
    "hidden_53a = keras.layers.Dense(40, activation = \"relu\")(hidden_52a)\n",
    "hidden_54a = keras.layers.Dense(40, activation = \"relu\")(hidden_53a)\n",
    "hidden_55a = keras.layers.Dense(40, activation = \"relu\")(hidden_54a)\n",
    "hidden_56a = keras.layers.Dense(40, activation = \"relu\")(hidden_55a)\n",
    "hidden_57a = keras.layers.Dense(40, activation = \"relu\")(hidden_56a)\n",
    "hidden_58a = keras.layers.Dense(40, activation = \"relu\")(hidden_57a)\n",
    "hidden_59a = keras.layers.Dense(40, activation = \"relu\")(hidden_58a)\n",
    "hidden_60a = keras.layers.Dense(40, activation = \"relu\")(hidden_59a)\n",
    "hidden_61a = keras.layers.Dense(40, activation = \"relu\")(hidden_60a)\n",
    "hidden_62a = keras.layers.Dense(40, activation = \"relu\")(hidden_61a)\n",
    "hidden_63a = keras.layers.Dense(40, activation = \"relu\")(hidden_62a)\n",
    "hidden_64a = keras.layers.Dense(40, activation = \"relu\")(hidden_63a)\n",
    "output = keras.layers.Dense(1, activation = \"relu\")(hidden_64a)\n",
    "NN = keras.Model(inputs = [input_], outputs = [output])\n",
    "\n",
    "es = EarlyStopping(monitor='val_loss', \n",
    "                                min_delta= 0.001, \n",
    "                                patience= 50, \n",
    "                                verbose= 0, \n",
    "                                mode='min', \n",
    "                                baseline= None, \n",
    "                                restore_best_weights= True)\n",
    "\n",
    "mc = ModelCheckpoint(filepath = base_path, \n",
    "                                     monitor='val_loss', \n",
    "                                     verbose= 0, \n",
    "                                     save_best_only = True,\n",
    "                                     save_weights_only = False, \n",
    "                                     mode='min', \n",
    "                                     save_freq='epoch')\n",
    "\n",
    "callbacks_list = [es, pl]\n",
    "\n",
    "NN.compile(loss = \"mean_squared_error\", optimizer = keras.optimizers.Adam(learning_rate= Learning_Rate))\n",
    "history = NN.fit(train_prepared, [train_set[\"Daily_Average_Power\"]], epochs = Epochs, \n",
    "                 batch_size = Batch_Size, callbacks = callbacks_list,\n",
    "                   validation_data = (validation_prepared, [validation_set[\"Daily_Average_Power\"]]), verbose =1)"
   ]
  },
  {
   "cell_type": "code",
   "execution_count": 22,
   "id": "a18c80f5",
   "metadata": {},
   "outputs": [
    {
     "name": "stdout",
     "output_type": "stream",
     "text": [
      "-5.455333141350998\n"
     ]
    }
   ],
   "source": [
    "train_predictions = NN.predict(train_prepared)\n",
    "test_predictions = NN.predict(test_prepared)\n",
    "\n",
    "from sklearn.metrics import r2_score\n",
    "Train_R2_Solar = r2_score(train_set[\"Daily_Average_Power\"], train_predictions)\n",
    "print(Train_R2_Solar)"
   ]
  },
  {
   "cell_type": "code",
   "execution_count": 23,
   "id": "953dfff3",
   "metadata": {},
   "outputs": [
    {
     "name": "stdout",
     "output_type": "stream",
     "text": [
      "-5.433304007636055\n"
     ]
    }
   ],
   "source": [
    "Test_R2_Solar = r2_score(test_set[\"Daily_Average_Power\"], test_predictions)\n",
    "print(Test_R2_Solar)"
   ]
  },
  {
   "cell_type": "code",
   "execution_count": 24,
   "id": "34095f6d",
   "metadata": {},
   "outputs": [
    {
     "name": "stdout",
     "output_type": "stream",
     "text": [
      "14.924823376221898\n"
     ]
    }
   ],
   "source": [
    "from sklearn.metrics import mean_absolute_error\n",
    "Train_MAE_Solar = mean_absolute_error(train_set[\"Daily_Average_Power\"], train_predictions)\n",
    "print(Train_MAE_Solar)"
   ]
  },
  {
   "cell_type": "code",
   "execution_count": 25,
   "id": "40d21922",
   "metadata": {},
   "outputs": [
    {
     "name": "stdout",
     "output_type": "stream",
     "text": [
      "14.912489545193374\n"
     ]
    }
   ],
   "source": [
    "Test_MAE_Solar = mean_absolute_error(test_set[\"Daily_Average_Power\"], test_predictions)\n",
    "print(Test_MAE_Solar)"
   ]
  },
  {
   "cell_type": "code",
   "execution_count": null,
   "id": "03767589",
   "metadata": {},
   "outputs": [],
   "source": []
  },
  {
   "cell_type": "code",
   "execution_count": null,
   "id": "4f4881d9",
   "metadata": {},
   "outputs": [],
   "source": []
  }
 ],
 "metadata": {
  "celltoolbar": "Raw Cell Format",
  "kernelspec": {
   "display_name": "Python 3 (ipykernel)",
   "language": "python",
   "name": "python3"
  },
  "language_info": {
   "codemirror_mode": {
    "name": "ipython",
    "version": 3
   },
   "file_extension": ".py",
   "mimetype": "text/x-python",
   "name": "python",
   "nbconvert_exporter": "python",
   "pygments_lexer": "ipython3",
   "version": "3.8.18"
  }
 },
 "nbformat": 4,
 "nbformat_minor": 5
}
